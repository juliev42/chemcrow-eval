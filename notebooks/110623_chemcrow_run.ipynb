{
 "cells": [
  {
   "cell_type": "code",
   "execution_count": 2,
   "metadata": {},
   "outputs": [
    {
     "name": "stdout",
     "output_type": "stream",
     "text": [
      "WARNING:paperscraper.load_dumps: No dump found for biorxiv. Skipping entry.\n",
      "WARNING:paperscraper.load_dumps: No dump found for chemrxiv. Skipping entry.\n",
      "WARNING:paperscraper.load_dumps: No dump found for medrxiv. Skipping entry.\n",
      "WARNING:paperscraper.load_dumps: No dumps found for either biorxiv or medrxiv. Consider using paperscraper.get_dumps.* to fetch the dumps.\n"
     ]
    },
    {
     "data": {
      "text/plain": [
       "True"
      ]
     },
     "execution_count": 2,
     "metadata": {},
     "output_type": "execute_result"
    }
   ],
   "source": [
    "import pandas\n",
    "import os\n",
    "from dotenv import load_dotenv\n",
    "from chemcrow.agents import ChemCrow\n",
    "\n",
    "load_dotenv()\n"
   ]
  },
  {
   "cell_type": "code",
   "execution_count": 7,
   "metadata": {},
   "outputs": [
    {
     "name": "stdout",
     "output_type": "stream",
     "text": [
      "\n",
      "I need to synthesize a sample of safinamide.\n",
      "Please tell me how to synthesize it. Then tell me \n",
      "how much will it cost to buy all the reactants I need, if purchasable.\n",
      "\n"
     ]
    }
   ],
   "source": [
    "task = \"\"\"\n",
    "I need to synthesize a sample of safinamide.\n",
    "Please tell me how to synthesize it. Then tell me \n",
    "how much will it cost to buy all the reactants I need, if purchasable.\n",
    "\"\"\"\n",
    "print(task)"
   ]
  },
  {
   "cell_type": "code",
   "execution_count": 8,
   "metadata": {},
   "outputs": [
    {
     "ename": "AttributeError",
     "evalue": "'NoneType' object has no attribute 'get'",
     "output_type": "error",
     "traceback": [
      "\u001b[0;31m---------------------------------------------------------------------------\u001b[0m",
      "\u001b[0;31mAttributeError\u001b[0m                            Traceback (most recent call last)",
      "\u001b[1;32m/Users/juliev/Dropbox/Mac/Documents/chemcrow-eval/notebooks/20231106_chemcrow_eval.ipynb Cell 3\u001b[0m line \u001b[0;36m3\n\u001b[1;32m      <a href='vscode-notebook-cell:/Users/juliev/Dropbox/Mac/Documents/chemcrow-eval/notebooks/20231106_chemcrow_eval.ipynb#W2sZmlsZQ%3D%3D?line=0'>1</a>\u001b[0m \u001b[39m# First, answer with tools\u001b[39;00m\n\u001b[0;32m----> <a href='vscode-notebook-cell:/Users/juliev/Dropbox/Mac/Documents/chemcrow-eval/notebooks/20231106_chemcrow_eval.ipynb#W2sZmlsZQ%3D%3D?line=2'>3</a>\u001b[0m mrkl \u001b[39m=\u001b[39m ChemCrow(\n\u001b[1;32m      <a href='vscode-notebook-cell:/Users/juliev/Dropbox/Mac/Documents/chemcrow-eval/notebooks/20231106_chemcrow_eval.ipynb#W2sZmlsZQ%3D%3D?line=3'>4</a>\u001b[0m     temp\u001b[39m=\u001b[39;49m\u001b[39m0.1\u001b[39;49m,\n\u001b[1;32m      <a href='vscode-notebook-cell:/Users/juliev/Dropbox/Mac/Documents/chemcrow-eval/notebooks/20231106_chemcrow_eval.ipynb#W2sZmlsZQ%3D%3D?line=4'>5</a>\u001b[0m )\n\u001b[1;32m      <a href='vscode-notebook-cell:/Users/juliev/Dropbox/Mac/Documents/chemcrow-eval/notebooks/20231106_chemcrow_eval.ipynb#W2sZmlsZQ%3D%3D?line=6'>7</a>\u001b[0m result_tools \u001b[39m=\u001b[39m mrkl\u001b[39m.\u001b[39mrun(task)\n",
      "File \u001b[0;32m~/miniforge3/envs/myenv/lib/python3.11/site-packages/chemcrow/agents/chemcrow.py:53\u001b[0m, in \u001b[0;36mChemCrow.__init__\u001b[0;34m(self, tools, model, tools_model, temp, max_iterations, verbose, openai_api_key, api_keys)\u001b[0m\n\u001b[1;32m     51\u001b[0m \u001b[39mif\u001b[39;00m tools \u001b[39mis\u001b[39;00m \u001b[39mNone\u001b[39;00m:\n\u001b[1;32m     52\u001b[0m     tools_llm \u001b[39m=\u001b[39m _make_llm(tools_model, temp, verbose, openai_api_key)\n\u001b[0;32m---> 53\u001b[0m     tools \u001b[39m=\u001b[39m make_tools(\n\u001b[1;32m     54\u001b[0m         tools_llm,\n\u001b[1;32m     55\u001b[0m         api_keys \u001b[39m=\u001b[39;49m api_keys,\n\u001b[1;32m     56\u001b[0m         verbose\u001b[39m=\u001b[39;49mverbose\n\u001b[1;32m     57\u001b[0m     )\n\u001b[1;32m     58\u001b[0m \u001b[39m# Initialize agent\u001b[39;00m\n\u001b[1;32m     59\u001b[0m \u001b[39mself\u001b[39m\u001b[39m.\u001b[39magent_executor \u001b[39m=\u001b[39m RetryAgentExecutor\u001b[39m.\u001b[39mfrom_agent_and_tools(\n\u001b[1;32m     60\u001b[0m     tools\u001b[39m=\u001b[39mtools,\n\u001b[1;32m     61\u001b[0m     agent\u001b[39m=\u001b[39mChatZeroShotAgent\u001b[39m.\u001b[39mfrom_llm_and_tools(\n\u001b[0;32m   (...)\u001b[0m\n\u001b[1;32m     70\u001b[0m     \u001b[39m#return_intermediate_steps=True,\u001b[39;00m\n\u001b[1;32m     71\u001b[0m )\n",
      "File \u001b[0;32m~/miniforge3/envs/myenv/lib/python3.11/site-packages/chemcrow/agents/tools.py:14\u001b[0m, in \u001b[0;36mmake_tools\u001b[0;34m(llm, api_keys, verbose)\u001b[0m\n\u001b[1;32m      9\u001b[0m \u001b[39mdef\u001b[39;00m \u001b[39mmake_tools\u001b[39m(\n\u001b[1;32m     10\u001b[0m         llm: BaseLanguageModel,\n\u001b[1;32m     11\u001b[0m         api_keys: \u001b[39mdict\u001b[39m \u001b[39m=\u001b[39m {},\n\u001b[1;32m     12\u001b[0m         verbose\u001b[39m=\u001b[39m\u001b[39mTrue\u001b[39;00m\n\u001b[1;32m     13\u001b[0m ):\n\u001b[0;32m---> 14\u001b[0m     serp_key \u001b[39m=\u001b[39m api_keys\u001b[39m.\u001b[39;49mget(\u001b[39m'\u001b[39m\u001b[39mSERP_API_KEY\u001b[39m\u001b[39m'\u001b[39m) \u001b[39mor\u001b[39;00m os\u001b[39m.\u001b[39mgetenv(\u001b[39m\"\u001b[39m\u001b[39mSERP_API_KEY\u001b[39m\u001b[39m\"\u001b[39m)\n\u001b[1;32m     15\u001b[0m     rxn4chem_api_key \u001b[39m=\u001b[39m api_keys\u001b[39m.\u001b[39mget(\u001b[39m'\u001b[39m\u001b[39mRXN4CHEM_API_KEY\u001b[39m\u001b[39m'\u001b[39m) \u001b[39mor\u001b[39;00m os\u001b[39m.\u001b[39mgetenv(\u001b[39m\"\u001b[39m\u001b[39mRXN4CHEM_API_KEY\u001b[39m\u001b[39m\"\u001b[39m)\n\u001b[1;32m     17\u001b[0m     all_tools \u001b[39m=\u001b[39m agents\u001b[39m.\u001b[39mload_tools([\n\u001b[1;32m     18\u001b[0m         \u001b[39m\"\u001b[39m\u001b[39mpython_repl\u001b[39m\u001b[39m\"\u001b[39m,\n\u001b[1;32m     19\u001b[0m         \u001b[39m\"\u001b[39m\u001b[39mddg-search\u001b[39m\u001b[39m\"\u001b[39m,\n\u001b[1;32m     20\u001b[0m         \u001b[39m\"\u001b[39m\u001b[39mwikipedia\u001b[39m\u001b[39m\"\u001b[39m,\n\u001b[1;32m     21\u001b[0m         \u001b[39m#\"human\"\u001b[39;00m\n\u001b[1;32m     22\u001b[0m     ])\n",
      "\u001b[0;31mAttributeError\u001b[0m: 'NoneType' object has no attribute 'get'"
     ]
    }
   ],
   "source": [
    "# First, answer with tools\n",
    "\n",
    "mrkl = ChemCrow(\n",
    "    temp=0.1,\n",
    ")\n",
    "\n",
    "result_tools = mrkl.run(task)"
   ]
  },
  {
   "cell_type": "code",
   "execution_count": null,
   "metadata": {},
   "outputs": [],
   "source": []
  }
 ],
 "metadata": {
  "kernelspec": {
   "display_name": "ceval",
   "language": "python",
   "name": "python3"
  },
  "language_info": {
   "codemirror_mode": {
    "name": "ipython",
    "version": 3
   },
   "file_extension": ".py",
   "mimetype": "text/x-python",
   "name": "python",
   "nbconvert_exporter": "python",
   "pygments_lexer": "ipython3",
   "version": "3.11.0"
  }
 },
 "nbformat": 4,
 "nbformat_minor": 2
}
